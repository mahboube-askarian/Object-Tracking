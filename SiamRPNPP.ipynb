{
  "nbformat": 4,
  "nbformat_minor": 0,
  "metadata": {
    "colab": {
      "provenance": [],
      "authorship_tag": "ABX9TyMQmvuInb57S6lFV9ZyTKDB",
      "include_colab_link": true
    },
    "kernelspec": {
      "name": "python3",
      "display_name": "Python 3"
    },
    "language_info": {
      "name": "python"
    }
  },
  "cells": [
    {
      "cell_type": "markdown",
      "metadata": {
        "id": "view-in-github",
        "colab_type": "text"
      },
      "source": [
        "<a href=\"https://colab.research.google.com/github/elhamsh93/object-tracking/blob/main/SiamRPNPP.ipynb\" target=\"_parent\"><img src=\"https://colab.research.google.com/assets/colab-badge.svg\" alt=\"Open In Colab\"/></a>"
      ]
    },
    {
      "cell_type": "code",
      "execution_count": null,
      "metadata": {
        "id": "wdP8-VItiVy5",
        "colab": {
          "base_uri": "https://localhost:8080/"
        },
        "outputId": "dd504dfa-3dfa-41a7-9237-e044a36fd5e2"
      },
      "outputs": [
        {
          "output_type": "stream",
          "name": "stdout",
          "text": [
            "/bin/bash: nvidia-smi: command not found\n"
          ]
        }
      ],
      "source": [
        "!nvidia-smi"
      ]
    },
    {
      "cell_type": "code",
      "source": [
        "import torch\n",
        "import torch.nn as nn\n",
        "import torch.nn.functional as F\n",
        "\n",
        "import torchvision\n",
        "from torchvision.models import resnet50\n",
        "from torchvision.models._utils import IntermediateLayerGetter"
      ],
      "metadata": {
        "id": "Ll9fc2s9vO8h"
      },
      "execution_count": null,
      "outputs": []
    },
    {
      "cell_type": "code",
      "source": [
        "model = resnet50(True, replace_stride_with_dilation=[True, True, True])\n",
        "# model"
      ],
      "metadata": {
        "id": "9m7GtKs3vm0v"
      },
      "execution_count": null,
      "outputs": []
    },
    {
      "cell_type": "code",
      "source": [
        "# model.avgpool = nn.Identity()\n",
        "# model.fc = nn.Identity()\n",
        "# model"
      ],
      "metadata": {
        "id": "9TLazysDwclG"
      },
      "execution_count": null,
      "outputs": []
    },
    {
      "cell_type": "code",
      "source": [
        "# model = nn.Sequential(*list(model.children())[:-2])\n",
        "model(torch.rand(1, 3, 224, 224)).shape"
      ],
      "metadata": {
        "colab": {
          "base_uri": "https://localhost:8080/"
        },
        "id": "NL5aM6wvwl8C",
        "outputId": "857c325d-78c4-4979-a23e-f9b1992db982"
      },
      "execution_count": null,
      "outputs": [
        {
          "output_type": "execute_result",
          "data": {
            "text/plain": [
              "torch.Size([1, 1000])"
            ]
          },
          "metadata": {},
          "execution_count": 13
        }
      ]
    },
    {
      "cell_type": "code",
      "source": [
        "new_model = IntermediateLayerGetter(model, \n",
        "                                {'layer2': 'out1',\n",
        "                                 'layer3': 'out2',\n",
        "                                 'layer4': 'out3'})"
      ],
      "metadata": {
        "id": "QcijH1x0zab3"
      },
      "execution_count": null,
      "outputs": []
    },
    {
      "cell_type": "code",
      "source": [
        "[v.shape for k,v in new_model(torch.rand(1, 3, 224, 224)).items()]"
      ],
      "metadata": {
        "colab": {
          "base_uri": "https://localhost:8080/"
        },
        "id": "yW9b9gh22O4l",
        "outputId": "a431ac83-0b7b-4b77-82cc-2ae90fe8f88b"
      },
      "execution_count": null,
      "outputs": [
        {
          "output_type": "execute_result",
          "data": {
            "text/plain": [
              "[torch.Size([1, 512, 56, 56]),\n",
              " torch.Size([1, 1024, 56, 56]),\n",
              " torch.Size([1, 2048, 56, 56])]"
            ]
          },
          "metadata": {},
          "execution_count": 18
        }
      ]
    },
    {
      "cell_type": "code",
      "source": [
        "class CorrHead(nn.Module):\n",
        "  def __init__(self, out_channels=2):\n",
        "    super(CorrHead, self).__init__()\n",
        "    self.adj_search = nn.Sequential(\n",
        "        nn.Conv2d(256, 256, 3, padding=1),\n",
        "        nn.BatchNorm2d(256),\n",
        "        nn.ReLU(inplace=True),\n",
        "    )\n",
        "    self.adj_target = nn.Sequential(\n",
        "        nn.Conv2d(256, 256, 3, padding=1),\n",
        "        nn.BatchNorm2d(256),\n",
        "        nn.ReLU(inplace=True),\n",
        "    )\n",
        "    self.head = nn.Sequential(\n",
        "        nn.Conv2d(256, 256, 1),\n",
        "        nn.BatchNorm2d(256),\n",
        "        nn.ReLU(inplace=True),\n",
        "        nn.Conv2d(256, out_channels, 1)\n",
        "    )\n",
        "  def forward(self, fx, fz):\n",
        "    fx = self.adj_search(fx)\n",
        "    fz = self.adj_target(fz)\n",
        "    fz= fz.permute(1, 0, 2, 3)\n",
        "    feature = F.conv2d(fx, fz, padding=13, groups=256)\n",
        "    out = self.head(feature)\n",
        "    return out\n"
      ],
      "metadata": {
        "id": "djpEMzLLBXRx"
      },
      "execution_count": null,
      "outputs": []
    },
    {
      "cell_type": "code",
      "source": [
        "class DWRPNHead(nn.Module):\n",
        "  def __init__(self, num_anchors=2):\n",
        "    super(DWRPNHead, self).__init__()\n",
        "    self.cls = CorrHead(2*num_anchors)\n",
        "    self.box = CorrHead(4*num_anchors)\n",
        "\n",
        "  def forward(self, fx, fz):\n",
        "    cls = self.cls(fx, fz)\n",
        "    loc = self.box(fx, fz)\n",
        "    return cls, loc\n"
      ],
      "metadata": {
        "id": "VqKA-SwtBA1L"
      },
      "execution_count": null,
      "outputs": []
    },
    {
      "cell_type": "code",
      "source": [
        "class SiamRPNPP(nn.Module):\n",
        "  def __init__(self,):\n",
        "    super(SiamRPNPP, self).__init__()\n",
        "    #Body\n",
        "    self.backbone = resnet50(True, replace_stride_with_dilation=[True, True, True])\n",
        "    self.backbone = IntermediateLayerGetter(self.backbone, \n",
        "                                {'layer2': 'out1',\n",
        "                                 'layer3': 'out2',\n",
        "                                 'layer4': 'out3'})\n",
        "    #Neck\n",
        "    self.neck1 = nn.Sequential(\n",
        "        nn.Conv2d(512, 256, 1),\n",
        "        nn.BatchNorm2d(256),\n",
        "        nn.ReLU(inplace=True),\n",
        "    )\n",
        "    self.neck2 = nn.Sequential(\n",
        "        nn.Conv2d(1024, 256, 1),\n",
        "        nn.BatchNorm2d(256),\n",
        "        nn.ReLU(inplace=True),\n",
        "    )\n",
        "    self.neck3 = nn.Sequential(\n",
        "        nn.Conv2d(2048, 256, 1),\n",
        "        nn.BatchNorm2d(256),\n",
        "        nn.ReLU(inplace=True),\n",
        "    )\n",
        "\n",
        "    #Head\n",
        "    self.head = DWRPNHead(num_anchors=2)\n",
        "\n",
        "    #Weight\n",
        "    self.alpha = nn.Parameter(torch.ones(3))\n",
        "    self.beta = nn.Parameter(torch.ones(3))\n",
        "\n",
        "  def forward(self, search, target):\n",
        "    search_feature = self.backbone(search)\n",
        "    search_out1 = self.neck1(search_feature['out1'])\n",
        "    search_out2 = self.neck2(search_feature['out2'])\n",
        "    search_out3 = self.neck3(search_feature['out3'])\n",
        "\n",
        "    target_feature = self.backbone(target)\n",
        "    target_out1 = self.neck1(target_feature['out1'])\n",
        "    target_out2 = self.neck2(target_feature['out2'])\n",
        "    target_out3 = self.neck3(target_feature['out3'])\n",
        "\n",
        "    cls1, loc1 = self.head(search_out1, target_out1)\n",
        "    cls2, loc2 = self.head(search_out2, target_out2)\n",
        "    cls3, loc3 = self.head(search_out3, target_out3)\n",
        "\n",
        "    cls = self.alpha[0]*cls1 + self.alpha[1]*cls2 + self.alpha[2]*cls3\n",
        "    loc = self.beta[0]*loc1 + self.beta[1]*loc2 + self.beta[2]*loc3\n",
        "\n",
        "    return cls, loc"
      ],
      "metadata": {
        "id": "Y_g4NH_h4OHu"
      },
      "execution_count": null,
      "outputs": []
    },
    {
      "cell_type": "code",
      "source": [
        "model = SiamRPNPP()"
      ],
      "metadata": {
        "colab": {
          "base_uri": "https://localhost:8080/"
        },
        "id": "SxqkTpws8hY_",
        "outputId": "f8c81c16-6284-4e12-e186-427dc6a631e0"
      },
      "execution_count": null,
      "outputs": [
        {
          "output_type": "stream",
          "name": "stderr",
          "text": [
            "/usr/local/lib/python3.10/dist-packages/torchvision/models/_utils.py:135: UserWarning: Using 'weights' as positional parameter(s) is deprecated since 0.13 and may be removed in the future. Please use keyword parameter(s) instead.\n",
            "  warnings.warn(\n",
            "/usr/local/lib/python3.10/dist-packages/torchvision/models/_utils.py:223: UserWarning: Arguments other than a weight enum or `None` for 'weights' are deprecated since 0.13 and may be removed in the future. The current behavior is equivalent to passing `weights=ResNet50_Weights.IMAGENET1K_V1`. You can also use `weights=ResNet50_Weights.DEFAULT` to get the most up-to-date weights.\n",
            "  warnings.warn(msg)\n"
          ]
        }
      ]
    },
    {
      "cell_type": "code",
      "source": [
        "cls, loc = model(torch.rand(1, 3, 224, 224), torch.rand(1, 3, 112, 112))"
      ],
      "metadata": {
        "id": "visZNXkJ8mfz"
      },
      "execution_count": null,
      "outputs": []
    },
    {
      "cell_type": "code",
      "source": [
        "cls.shape, loc.shape"
      ],
      "metadata": {
        "colab": {
          "base_uri": "https://localhost:8080/"
        },
        "id": "72KYTJJD89Z5",
        "outputId": "8ed60954-2181-4ef8-9365-7c5df26f71c8"
      },
      "execution_count": null,
      "outputs": [
        {
          "output_type": "execute_result",
          "data": {
            "text/plain": [
              "(torch.Size([1, 4, 55, 55]), torch.Size([1, 8, 55, 55]))"
            ]
          },
          "metadata": {},
          "execution_count": 69
        }
      ]
    },
    {
      "cell_type": "code",
      "source": [
        "#input tensor of shape \n",
        "#(minibatch,in_channels,iH,iW)\n",
        "#filters of shape\n",
        "#(out_channels, groups/in_channels, kH, kW)\n",
        "\n",
        "inputs = torch.randn(3, 256, 56, 56)\n",
        "filters = torch.randn(256, 1, 28, 28)\n",
        "F.conv2d(inputs, filters, padding=13, groups=256).shape"
      ],
      "metadata": {
        "colab": {
          "base_uri": "https://localhost:8080/"
        },
        "id": "P0UAmFMAP7Rw",
        "outputId": "ff233cdb-fcf3-4619-f8f5-e4104da69ebf"
      },
      "execution_count": null,
      "outputs": [
        {
          "output_type": "execute_result",
          "data": {
            "text/plain": [
              "torch.Size([3, 256, 55, 55])"
            ]
          },
          "metadata": {},
          "execution_count": 35
        }
      ]
    },
    {
      "cell_type": "markdown",
      "source": [
        "\n",
        "\n",
        "*   https://github.com/STVIR/pysot\n",
        "*   https://github.com/visionml/pytracking\n",
        "*   https://github.com/got-10k/toolkit\n",
        "\n"
      ],
      "metadata": {
        "id": "WDXdiStWbUHr"
      }
    }
  ]
}